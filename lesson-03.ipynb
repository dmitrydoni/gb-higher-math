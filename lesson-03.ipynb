{
 "cells": [
  {
   "cell_type": "markdown",
   "metadata": {},
   "source": [
    "## Урок 3\n",
    "### Введение в аналитическую геометрию. Графики на плоскости."
   ]
  },
  {
   "cell_type": "code",
   "execution_count": 1,
   "metadata": {},
   "outputs": [],
   "source": [
    "import numpy as np\n",
    "import matplotlib.pyplot as plt\n",
    "\n",
    "%matplotlib inline\n",
    "plt.style.use('fivethirtyeight')"
   ]
  },
  {
   "cell_type": "markdown",
   "metadata": {},
   "source": [
    "#### Практическое задание по теме “Введение в аналитическую геометрию”"
   ]
  },
  {
   "cell_type": "markdown",
   "metadata": {},
   "source": [
    "__Задание 1__  \n",
    "Даны два вектора в трехмерном пространстве: `(10,10,10)` и `(0,0,-10)`.  \n",
    "1) Найдите их сумму.  \n",
    "2) Напишите код на Python, реализующий расчет длины вектора, заданного его координатами."
   ]
  },
  {
   "cell_type": "markdown",
   "metadata": {},
   "source": [
    "__Solution__  "
   ]
  },
  {
   "cell_type": "code",
   "execution_count": 2,
   "metadata": {},
   "outputs": [],
   "source": [
    "# Vector V1\n",
    "x1 = 10\n",
    "y1 = 10\n",
    "z1 = 10\n",
    "\n",
    "# Vector V2\n",
    "x2 = 0\n",
    "y2 = 0\n",
    "z2 = -10"
   ]
  },
  {
   "cell_type": "markdown",
   "metadata": {},
   "source": [
    "$$V_1 {({x_1}, {y_1}, {z_1})}$$\n",
    "$$V_2 {({x_2}, {y_2}, {z_2})}$$\n",
    "$$V_1 + V_2  = {({x_1} + {x_2}, {y_1} + {y_2}, {z_1} + {z_2})}$$"
   ]
  },
  {
   "cell_type": "code",
   "execution_count": 3,
   "metadata": {},
   "outputs": [
    {
     "data": {
      "text/plain": [
       "(10, 10, 0)"
      ]
     },
     "execution_count": 3,
     "metadata": {},
     "output_type": "execute_result"
    }
   ],
   "source": [
    "# Vector V3 = V1 + V2\n",
    "x3 = x1 + x2\n",
    "y3 = y1 + y2\n",
    "z3 = z1 + z2\n",
    "\n",
    "(x3, y3, z3)"
   ]
  },
  {
   "cell_type": "markdown",
   "metadata": {},
   "source": [
    "$$l = {\\sqrt{{x^2} + {y^2} + {z^2}}}$$"
   ]
  },
  {
   "cell_type": "code",
   "execution_count": 4,
   "metadata": {},
   "outputs": [],
   "source": [
    "# Implementation of the formula for the calculation of 3D vector length\n",
    "\n",
    "def vector_length_3d(\n",
    "        x: int,\n",
    "        y: int,\n",
    "        z: int,\n",
    ") -> float:\n",
    "    \n",
    "    vector_length = np.sqrt(x ** 2 + y ** 2 + z ** 2)\n",
    "    \n",
    "    return vector_length"
   ]
  },
  {
   "cell_type": "code",
   "execution_count": 5,
   "metadata": {},
   "outputs": [
    {
     "data": {
      "text/plain": [
       "17.320508075688775"
      ]
     },
     "execution_count": 5,
     "metadata": {},
     "output_type": "execute_result"
    }
   ],
   "source": [
    "vector1_length = vector_length_3d(x=x1, y=y1, z=z1)\n",
    "vector1_length"
   ]
  },
  {
   "cell_type": "code",
   "execution_count": 6,
   "metadata": {},
   "outputs": [
    {
     "data": {
      "text/plain": [
       "10.0"
      ]
     },
     "execution_count": 6,
     "metadata": {},
     "output_type": "execute_result"
    }
   ],
   "source": [
    "vector2_length = vector_length_3d(x=x2, y=y2, z=z2)\n",
    "vector2_length"
   ]
  },
  {
   "cell_type": "markdown",
   "metadata": {},
   "source": [
    "__Задание 3__  \n",
    "Напишите код на Python, реализующий построение графиков:\n",
    "* окружности,\n",
    "* эллипса,\n",
    "* гиперболы.\n"
   ]
  },
  {
   "cell_type": "markdown",
   "metadata": {},
   "source": [
    "__Solution__  "
   ]
  },
  {
   "cell_type": "markdown",
   "metadata": {},
   "source": [
    "Circle:\n",
    "$$(x - x_0)^2 + (y - y_0)^2 = R^2$$\n",
    "\n",
    "$$ \\frac{(x - x_0)^2}{R^2} + \\frac{(y - y_0)^2}{R^2} = 1$$"
   ]
  },
  {
   "cell_type": "code",
   "execution_count": 7,
   "metadata": {},
   "outputs": [
    {
     "data": {
      "image/png": "[encoded data removed]",
      "text/plain": [
       "<Figure size 432x288 with 1 Axes>"
      ]
     },
     "metadata": {
      "needs_background": "light"
     },
     "output_type": "display_data"
    }
   ],
   "source": [
    "# Cirle\n",
    "\n",
    "r = 1\n",
    "th = np.linspace(0, 2 * np.pi, 100)\n",
    "\n",
    "x = r * np.cos(th)\n",
    "y = r * np.sin(th)\n",
    "\n",
    "fig, ax = plt.subplots(1)\n",
    "\n",
    "ax.plot(x, y)\n",
    "ax.set_aspect(1)\n",
    "\n",
    "plt.grid(color='lightgray')\n",
    "plt.title('Circle', fontsize=12)\n",
    "plt.show()"
   ]
  },
  {
   "cell_type": "markdown",
   "metadata": {},
   "source": [
    "Ellipse:  \n",
    "$$ \\frac{x^2}{a^2} + \\frac{y^2}{b^2} = 1$$"
   ]
  },
  {
   "cell_type": "code",
   "execution_count": 8,
   "metadata": {},
   "outputs": [],
   "source": [
    "x = np.linspace(-4, 4, 100)\n",
    "y = np.linspace(-4, 4, 100)\n",
    "\n",
    "# Create a grid replicating the first array horizontally and the second array vertically\n",
    "x, y = np.meshgrid(x, y)"
   ]
  },
  {
   "cell_type": "code",
   "execution_count": 9,
   "metadata": {},
   "outputs": [
    {
     "data": {
      "image/png": "[encoded data removed]",
      "text/plain": [
       "<Figure size 432x288 with 1 Axes>"
      ]
     },
     "metadata": {
      "needs_background": "light"
     },
     "output_type": "display_data"
    }
   ],
   "source": [
    "# Ellipse\n",
    "\n",
    "a = 3\n",
    "b = 2\n",
    "\n",
    "plt.contour(x, y, (x ** 2 / a ** 2 + y ** 2 / b ** 2), [1])\n",
    "\n",
    "plt.grid(color='lightgray')\n",
    "plt.title('Ellipse', fontsize=12)\n",
    "plt.show()"
   ]
  },
  {
   "cell_type": "markdown",
   "metadata": {},
   "source": [
    "Hyperbola:  \n",
    "$$ \\frac{x^2}{a^2} - \\frac{y^2}{b^2} = 1$$"
   ]
  },
  {
   "cell_type": "code",
   "execution_count": 10,
   "metadata": {},
   "outputs": [
    {
     "data": {
      "image/png": "[encoded data removed]",
      "text/plain": [
       "<Figure size 432x288 with 1 Axes>"
      ]
     },
     "metadata": {
      "needs_background": "light"
     },
     "output_type": "display_data"
    }
   ],
   "source": [
    "# Hyperbola\n",
    "\n",
    "a = 1\n",
    "b = 2\n",
    "\n",
    "plt.contour(x, y, (x ** 2 / a ** 2 - y ** 2 / b ** 2), [1])\n",
    "\n",
    "plt.grid(color='lightgray')\n",
    "plt.title('Hyperbola', fontsize=12)\n",
    "plt.show()"
   ]
  },
  {
   "cell_type": "markdown",
   "metadata": {},
   "source": [
    "__Задание 4__   \n",
    "1) Пусть задана плоскость:\n",
    "$$Ax + By + Cz + D = 0$$\n",
    "Напишите уравнение плоскости, параллельной данной и проходящей через начало координат.  \n",
    "2)  Пусть задана плоскость: \n",
    "$$A_1x + B_1y + C_1z + D_1 = 0$$\n",
    "и прямая: \n",
    "$$\\frac{x - x_1}{x_2 - x_1} = \\frac{y - y_1}{y_2 - y_1} = \\frac{z - z_1}{z_2 - z_1}$$\n",
    "Как узнать, принадлежит прямая плоскости или нет?\n"
   ]
  },
  {
   "cell_type": "markdown",
   "metadata": {},
   "source": [
    "__Solution__  "
   ]
  },
  {
   "cell_type": "code",
   "execution_count": null,
   "metadata": {},
   "outputs": [],
   "source": []
  },
  {
   "cell_type": "code",
   "execution_count": null,
   "metadata": {},
   "outputs": [],
   "source": []
  },
  {
   "cell_type": "markdown",
   "metadata": {},
   "source": [
    "__Задание 5__  \n",
    "1) Нарисуйте трехмерный график двух параллельных плоскостей.  \n",
    "2) Нарисуйте трехмерный график двух любых поверхностей второго порядка."
   ]
  },
  {
   "cell_type": "markdown",
   "metadata": {},
   "source": [
    "__Solution__  "
   ]
  },
  {
   "cell_type": "code",
   "execution_count": null,
   "metadata": {},
   "outputs": [],
   "source": []
  },
  {
   "cell_type": "code",
   "execution_count": null,
   "metadata": {},
   "outputs": [],
   "source": []
  },
  {
   "cell_type": "code",
   "execution_count": null,
   "metadata": {},
   "outputs": [],
   "source": []
  },
  {
   "cell_type": "code",
   "execution_count": null,
   "metadata": {},
   "outputs": [],
   "source": []
  },
  {
   "cell_type": "markdown",
   "metadata": {},
   "source": [
    "#### Практическое задание по теме “Графики на плоскости”"
   ]
  },
  {
   "cell_type": "markdown",
   "metadata": {},
   "source": [
    "__Задание 1__  \n",
    "Нарисуйте график функции:\n",
    "$$y(x) = k \\cdot cos(x – a) + b$$\n",
    "для некоторых (2-3 различных) значений параметров `k`, `a`, `b`."
   ]
  },
  {
   "cell_type": "markdown",
   "metadata": {},
   "source": [
    "__Solution__  "
   ]
  },
  {
   "cell_type": "code",
   "execution_count": 11,
   "metadata": {},
   "outputs": [],
   "source": [
    "# Implementation of the plot\n",
    "\n",
    "def plot_cos_abk(\n",
    "        a: int,\n",
    "        b: int,\n",
    "        k: int,\n",
    "):\n",
    "    \n",
    "    x = np.linspace(0, 8, 101)\n",
    "    plt.plot(x, k * np.cos(x - a) + b, color='blue')\n",
    "    \n",
    "    plt.xlabel('x')\n",
    "    plt.ylabel('y = k * cos(x - a) + b')"
   ]
  },
  {
   "cell_type": "code",
   "execution_count": 12,
   "metadata": {},
   "outputs": [
    {
     "data": {
      "image/png": "[encoded data removed]",
      "text/plain": [
       "<Figure size 432x288 with 1 Axes>"
      ]
     },
     "metadata": {
      "needs_background": "light"
     },
     "output_type": "display_data"
    }
   ],
   "source": [
    "a1=1\n",
    "b1=2\n",
    "k1=3\n",
    "\n",
    "plot_cos_abk(a=a1, b=b1, k=k1)"
   ]
  },
  {
   "cell_type": "code",
   "execution_count": 13,
   "metadata": {},
   "outputs": [
    {
     "data": {
      "image/png": "[encoded data removed]",
      "text/plain": [
       "<Figure size 432x288 with 1 Axes>"
      ]
     },
     "metadata": {
      "needs_background": "light"
     },
     "output_type": "display_data"
    }
   ],
   "source": [
    "a2=20\n",
    "b2=-12\n",
    "k2=-4\n",
    "\n",
    "plot_cos_abk(a=a2, b=b2, k=k2)"
   ]
  },
  {
   "cell_type": "code",
   "execution_count": null,
   "metadata": {},
   "outputs": [],
   "source": []
  },
  {
   "cell_type": "code",
   "execution_count": null,
   "metadata": {},
   "outputs": [],
   "source": []
  },
  {
   "cell_type": "code",
   "execution_count": null,
   "metadata": {},
   "outputs": [],
   "source": []
  },
  {
   "cell_type": "markdown",
   "metadata": {},
   "source": [
    "__Задание 3__  \n",
    "1) Напишите код, который будет переводить полярные координаты в декартовы.  \n",
    "2) Напишите код, который будет рисовать график окружности в полярных координатах.  \n",
    "3) Напишите код, который будет рисовать график отрезка прямой линии в полярных координатах."
   ]
  },
  {
   "cell_type": "markdown",
   "metadata": {},
   "source": [
    "__Solution__  "
   ]
  },
  {
   "cell_type": "code",
   "execution_count": null,
   "metadata": {},
   "outputs": [],
   "source": []
  },
  {
   "cell_type": "code",
   "execution_count": null,
   "metadata": {},
   "outputs": [],
   "source": []
  },
  {
   "cell_type": "code",
   "execution_count": null,
   "metadata": {},
   "outputs": [],
   "source": []
  },
  {
   "cell_type": "code",
   "execution_count": null,
   "metadata": {},
   "outputs": [],
   "source": []
  },
  {
   "cell_type": "code",
   "execution_count": null,
   "metadata": {},
   "outputs": [],
   "source": []
  },
  {
   "cell_type": "markdown",
   "metadata": {},
   "source": [
    "__Задание 4__  \n",
    "1) Решите систему уравнений:  \n",
    "$$y = x^2 – 1$$\n",
    "$$exp(x) + x \\cdot (1 – y) = 1$$\n",
    "\n",
    "2) Решите систему уравнений и неравенств:\n",
    "$$y = x^2 – 1$$\n",
    "$$exp(x) + x \\cdot (1 – y) > 1$$\n"
   ]
  },
  {
   "cell_type": "markdown",
   "metadata": {},
   "source": [
    "__Solution__  "
   ]
  },
  {
   "cell_type": "code",
   "execution_count": null,
   "metadata": {},
   "outputs": [],
   "source": []
  },
  {
   "cell_type": "code",
   "execution_count": null,
   "metadata": {},
   "outputs": [],
   "source": []
  },
  {
   "cell_type": "code",
   "execution_count": null,
   "metadata": {},
   "outputs": [],
   "source": []
  },
  {
   "cell_type": "code",
   "execution_count": null,
   "metadata": {},
   "outputs": [],
   "source": []
  },
  {
   "cell_type": "code",
   "execution_count": null,
   "metadata": {},
   "outputs": [],
   "source": []
  }
 ],
 "metadata": {
  "kernelspec": {
   "display_name": "Python 3",
   "language": "python",
   "name": "python3"
  },
  "language_info": {
   "codemirror_mode": {
    "name": "ipython",
    "version": 3
   },
   "file_extension": ".py",
   "mimetype": "text/x-python",
   "name": "python",
   "nbconvert_exporter": "python",
   "pygments_lexer": "ipython3",
   "version": "3.7.3"
  }
 },
 "nbformat": 4,
 "nbformat_minor": 2
}
