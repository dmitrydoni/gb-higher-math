{
 "cells": [
  {
   "cell_type": "markdown",
   "metadata": {},
   "source": [
    "## Урок 4\n",
    "### Введение в аналитическую геометрию. Графики на плоскости."
   ]
  },
  {
   "cell_type": "code",
   "execution_count": 1,
   "metadata": {},
   "outputs": [],
   "source": [
    "import numpy as np\n",
    "import matplotlib.pyplot as plt"
   ]
  },
  {
   "cell_type": "markdown",
   "metadata": {},
   "source": [
    "__Задание 1__  \n",
    "Решите уравнение \n",
    "$$sin(x) / x = 0$$"
   ]
  },
  {
   "cell_type": "markdown",
   "metadata": {},
   "source": [
    "__Solution__  "
   ]
  },
  {
   "cell_type": "code",
   "execution_count": null,
   "metadata": {},
   "outputs": [],
   "source": []
  },
  {
   "cell_type": "code",
   "execution_count": null,
   "metadata": {},
   "outputs": [],
   "source": []
  },
  {
   "cell_type": "code",
   "execution_count": null,
   "metadata": {},
   "outputs": [],
   "source": []
  },
  {
   "cell_type": "markdown",
   "metadata": {},
   "source": [
    "__Задание 2__  \n",
    "Даны три прямые \n",
    "$$y=k_1*x+b_1$$\n",
    "$$y=k_2*x+b_2$$\n",
    "$$y=k_3*x+b_3$$\n",
    "Как узнать, пересекаются они в одной точке или нет?"
   ]
  },
  {
   "cell_type": "markdown",
   "metadata": {},
   "source": [
    "__Solution__  "
   ]
  },
  {
   "cell_type": "markdown",
   "metadata": {},
   "source": [
    "$$A \\cdot x + B \\cdot y + C = 0$$\n",
    "$$y = - \\frac{A}{B} \\cdot x - \\frac{C}{B}$$"
   ]
  },
  {
   "cell_type": "markdown",
   "metadata": {},
   "source": [
    "Allowable range of values: $k_1 \\ne k_2$, $k_1 \\ne k_3$, $k_2 \\ne k_3$ (the lines are not parallel).  "
   ]
  },
  {
   "cell_type": "markdown",
   "metadata": {},
   "source": [
    "If all three lines intersect in one point, e.g. $A(x_0, y_0)$, then:  \n",
    "$$\\begin{cases} y_0 = k_1 \\cdot x_0 + b_1 \\\\ y_0 = k_2 \\cdot x_0 + b_2 \\\\ y_0 = k_3 \\cdot x_0 + b_3 \\end{cases}$$"
   ]
  },
  {
   "cell_type": "markdown",
   "metadata": {},
   "source": [
    "$$\\begin{cases} k_1 \\cdot x_0 + b_1 = k_2 \\cdot x_0 + b_2 \\\\ k_2 \\cdot x_0 + b_2 = k_3 \\cdot x_0 + b_3 \\end{cases}$$"
   ]
  },
  {
   "cell_type": "markdown",
   "metadata": {},
   "source": [
    "$$\\begin{cases} k_1 \\cdot x_0 - k_2 \\cdot x_0 = b_2 - b_1 \\\\ k_2 \\cdot x_0 - k_3 \\cdot x_0 = b_3 - b_2 \\end{cases}$$"
   ]
  },
  {
   "cell_type": "markdown",
   "metadata": {},
   "source": [
    "$$\\begin{cases} x_0 = \\frac{b_2 - b_1}{k_1 - k_2} \\\\ x_0 = \\frac{b_3 - b_2}{k_2 - k_3} \\end{cases}$$"
   ]
  },
  {
   "cell_type": "markdown",
   "metadata": {},
   "source": [
    "The lines intersect if:\n",
    "$$\\frac{b_2 - b_1}{k_1 - k_2} = \\frac{b_3 - b_2}{k_2 - k_3}$$"
   ]
  },
  {
   "cell_type": "markdown",
   "metadata": {},
   "source": [
    "Example:\n",
    "$$\\frac{6 - 3}{5 - 4} = \\frac{12 - 6}{4 - 2}$$"
   ]
  },
  {
   "cell_type": "code",
   "execution_count": 2,
   "metadata": {},
   "outputs": [
    {
     "data": {
      "text/plain": [
       "<matplotlib.legend.Legend at 0x11df93e10>"
      ]
     },
     "execution_count": 2,
     "metadata": {},
     "output_type": "execute_result"
    },
    {
     "data": {
      "image/png": "[encoded data removed]",
      "text/plain": [
       "<Figure size 432x288 with 1 Axes>"
      ]
     },
     "metadata": {
      "needs_background": "light"
     },
     "output_type": "display_data"
    }
   ],
   "source": [
    "k1 = 5\n",
    "k2 = 4\n",
    "k3 = 2\n",
    "b1 = 3\n",
    "b2 = 6\n",
    "b3 = 12\n",
    "\n",
    "x = np.linspace(0, 10, 101)\n",
    "\n",
    "y1 = k1 * x + b1\n",
    "y2 = k2 * x + b2\n",
    "y3 = k3 * x + b3\n",
    "\n",
    "plt.plot(x, y1, color='green', label=\"y = 5*x + 3\")\n",
    "plt.plot(x, y2, color='blue', label=\"y = 4*x + 6\")\n",
    "plt.plot(x, y3, color='red', label=\"y = 2*x + 12\")\n",
    "\n",
    "plt.xlabel('x')\n",
    "plt.ylabel('y')\n",
    "\n",
    "plt.legend(loc=\"lower right\")"
   ]
  }
 ],
 "metadata": {
  "kernelspec": {
   "display_name": "Python 3",
   "language": "python",
   "name": "python3"
  },
  "language_info": {
   "codemirror_mode": {
    "name": "ipython",
    "version": 3
   },
   "file_extension": ".py",
   "mimetype": "text/x-python",
   "name": "python",
   "nbconvert_exporter": "python",
   "pygments_lexer": "ipython3",
   "version": "3.7.3"
  }
 },
 "nbformat": 4,
 "nbformat_minor": 2
}
