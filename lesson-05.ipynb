{
 "cells": [
  {
   "cell_type": "markdown",
   "metadata": {},
   "source": [
    "## Урок 5\n",
    "### Элементы теории вероятностей"
   ]
  },
  {
   "cell_type": "code",
   "execution_count": 1,
   "metadata": {},
   "outputs": [],
   "source": [
    "import numpy as np\n",
    "import matplotlib.pyplot as plt"
   ]
  },
  {
   "cell_type": "markdown",
   "metadata": {},
   "source": [
    "__Задание 1__  \n",
    "Напишите код, моделирующий выпадение поля в рулетке (с учетом поля зеро)."
   ]
  },
  {
   "cell_type": "code",
   "execution_count": 2,
   "metadata": {},
   "outputs": [
    {
     "name": "stdin",
     "output_type": "stream",
     "text": [
      " \n"
     ]
    },
    {
     "name": "stdout",
     "output_type": "stream",
     "text": [
      "Your spin:  26  Black\n"
     ]
    },
    {
     "name": "stdin",
     "output_type": "stream",
     "text": [
      " \n"
     ]
    },
    {
     "name": "stdout",
     "output_type": "stream",
     "text": [
      "Your spin:  3  Red\n"
     ]
    },
    {
     "name": "stdin",
     "output_type": "stream",
     "text": [
      " \n"
     ]
    },
    {
     "name": "stdout",
     "output_type": "stream",
     "text": [
      "Your spin:  20  Black\n"
     ]
    },
    {
     "name": "stdin",
     "output_type": "stream",
     "text": [
      " \n"
     ]
    },
    {
     "name": "stdout",
     "output_type": "stream",
     "text": [
      "Your spin:  13  Black\n"
     ]
    },
    {
     "name": "stdin",
     "output_type": "stream",
     "text": [
      " \n"
     ]
    },
    {
     "name": "stdout",
     "output_type": "stream",
     "text": [
      "Your spin:  30  Red\n"
     ]
    }
   ],
   "source": [
    "# Roulette: 36 numbers (18 red and 18 black) and Zero\n",
    "red = {1, 3, 5, 7, 9, 12, 14, 16, 18, 19, 21, 23, 25, 27, 30, 32, 34, 36}\n",
    "black = {2, 4, 6, 8, 10, 11, 13, 15, 17, 20, 22, 24, 26, 28, 29, 31, 33, 35}\n",
    "zero = 0\n",
    "\n",
    "for i in range(0, 5):\n",
    "    roll = input()    \n",
    "    spin = np.random.randint(0, 37)\n",
    "    if spin in red:\n",
    "        print(\"Your spin: \", spin, \" Red\")\n",
    "    elif spin in black:\n",
    "        print(\"Your spin: \", spin, \" Black\")\n",
    "    elif spin == zero:\n",
    "        print(\"Your spin is Zero!\")"
   ]
  },
  {
   "cell_type": "markdown",
   "metadata": {},
   "source": [
    "__Задание 2__  \n",
    "1) Напишите код, проверяющий любую из теорем сложения или умножения вероятности на примере рулетки или подбрасывания монетки.  \n",
    "2) Сгенерируйте десять выборок случайных чисел `х0, …, х9` и постройте гистограмму распределения случайной суммы `х0 + х1 + … + х9`."
   ]
  },
  {
   "cell_type": "markdown",
   "metadata": {},
   "source": [
    "Total probabiity of pairwise disjoint events:\n",
    "$$P = P_{head} + P_{tail} = 1$$"
   ]
  },
  {
   "cell_type": "code",
   "execution_count": 3,
   "metadata": {},
   "outputs": [
    {
     "name": "stdout",
     "output_type": "stream",
     "text": [
      "Number of experiments: 1000 \n",
      "Heads: 497 \n",
      "Tails: 503 \n",
      "P(Heads): 0.497 \n",
      "P(Tails): 0.503 \n",
      "P(Heads+Tails): 1.0\n"
     ]
    }
   ],
   "source": [
    "# Monte Carlo method with a coin (one side is the Head, another side is the Tail)\n",
    "head, tail = 0, 0\n",
    "n = 1000\n",
    "for i in range(0, n):\n",
    "    x = np.random.uniform(0, 10)\n",
    "    if x < 5:\n",
    "        head = head + 1\n",
    "    else: \n",
    "        tail = tail + 1\n",
    "print(f'Number of experiments: {n} \\nHeads: {head} \\nTails: {tail} \\nP(Heads): {head/n} \\nP(Tails): {tail/n} \\nP(Heads+Tails): {head/n + tail/n}')"
   ]
  },
  {
   "cell_type": "code",
   "execution_count": 4,
   "metadata": {},
   "outputs": [
    {
     "name": "stdout",
     "output_type": "stream",
     "text": [
      "Generated array x0\n",
      "Generated array x1\n",
      "Generated array x2\n",
      "Generated array x3\n",
      "Generated array x4\n",
      "Generated array x5\n",
      "Generated array x6\n",
      "Generated array x7\n",
      "Generated array x8\n",
      "Generated array x9\n",
      "Array x_sum is calculated as sum of arrays x0, x1, ... , x9\n"
     ]
    }
   ],
   "source": [
    "# Generate 10 arrays of random numbers\n",
    "# Calculate array x as sum of arrays x0, x1, ... , x9\n",
    "n = 20000\n",
    "x_sum = [0] * n\n",
    "for i in range(0, 10):        \n",
    "    xn = f'x{i}'\n",
    "    xn = np.random.rand(n)\n",
    "    print(\"Generated array\", f'x{i}')\n",
    "    x_sum = x_sum + xn\n",
    "    i += 1\n",
    "print(\"Array x_sum is calculated as sum of arrays x0, x1, ... , x9\")"
   ]
  },
  {
   "cell_type": "code",
   "execution_count": 5,
   "metadata": {},
   "outputs": [
    {
     "data": {
      "text/plain": [
       "Text(0.5, 1.0, 'Histogram')"
      ]
     },
     "execution_count": 5,
     "metadata": {},
     "output_type": "execute_result"
    },
    {
     "data": {
      "image/png": "[encoded data removed]",
      "text/plain": [
       "<Figure size 432x288 with 1 Axes>"
      ]
     },
     "metadata": {
      "needs_background": "light"
     },
     "output_type": "display_data"
    }
   ],
   "source": [
    "num_bins = 20\n",
    "n, bins, patches = plt.hist(x_sum, num_bins)\n",
    "plt.xlabel('x_sum')\n",
    "plt.ylabel('Probability')\n",
    "plt.title('Histogram')"
   ]
  },
  {
   "cell_type": "code",
   "execution_count": null,
   "metadata": {},
   "outputs": [],
   "source": []
  },
  {
   "cell_type": "code",
   "execution_count": null,
   "metadata": {},
   "outputs": [],
   "source": []
  },
  {
   "cell_type": "markdown",
   "metadata": {},
   "source": [
    "__Задание 3__  \n",
    "1) Дополните код Монте-Карло последовательности независимых испытаний расчетом соответствующих вероятностей (через биномиальное распределение) \n",
    "и сравните результаты.  \n",
    "2) Повторите расчеты биномиальных коэффициентов и вероятностей `k` успехов в последовательности из `n` независимых испытаний, взяв другие значения `n` и `k`.\n"
   ]
  },
  {
   "cell_type": "code",
   "execution_count": null,
   "metadata": {},
   "outputs": [],
   "source": []
  },
  {
   "cell_type": "markdown",
   "metadata": {},
   "source": [
    "__Задание 4__  \n",
    "Из урока по комбинаторике повторите расчеты, сгенерировав возможные варианты перестановок для других значений `n` и `k`."
   ]
  },
  {
   "cell_type": "code",
   "execution_count": null,
   "metadata": {},
   "outputs": [],
   "source": []
  },
  {
   "cell_type": "markdown",
   "metadata": {},
   "source": [
    "__Задание 5__  \n",
    "Дополните код расчетом коэффициента корреляции `x` и `y` по формуле:\n",
    "$$R = \\frac{\\sum(x_i - x_m) \\cdot (y_i - y_m)}{\\sqrt{\\sum(x_i - x_m)^2 \\cdot \\sum(y_i - y_m)^2}}$$"
   ]
  },
  {
   "cell_type": "code",
   "execution_count": null,
   "metadata": {},
   "outputs": [],
   "source": []
  },
  {
   "cell_type": "code",
   "execution_count": null,
   "metadata": {},
   "outputs": [],
   "source": []
  },
  {
   "cell_type": "code",
   "execution_count": null,
   "metadata": {},
   "outputs": [],
   "source": []
  }
 ],
 "metadata": {
  "kernelspec": {
   "display_name": "Python 3",
   "language": "python",
   "name": "python3"
  },
  "language_info": {
   "codemirror_mode": {
    "name": "ipython",
    "version": 3
   },
   "file_extension": ".py",
   "mimetype": "text/x-python",
   "name": "python",
   "nbconvert_exporter": "python",
   "pygments_lexer": "ipython3",
   "version": "3.7.3"
  }
 },
 "nbformat": 4,
 "nbformat_minor": 2
}
