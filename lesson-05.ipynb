{
 "cells": [
  {
   "cell_type": "markdown",
   "metadata": {},
   "source": [
    "## Урок 5\n",
    "### Элементы теории вероятностей"
   ]
  },
  {
   "cell_type": "code",
   "execution_count": 1,
   "metadata": {},
   "outputs": [],
   "source": [
    "import numpy as np\n",
    "import math\n",
    "import itertools\n",
    "import matplotlib.pyplot as plt"
   ]
  },
  {
   "cell_type": "markdown",
   "metadata": {},
   "source": [
    "__Задание 1__  \n",
    "Напишите код, моделирующий выпадение поля в рулетке (с учетом поля зеро)."
   ]
  },
  {
   "cell_type": "code",
   "execution_count": 2,
   "metadata": {},
   "outputs": [
    {
     "name": "stdin",
     "output_type": "stream",
     "text": [
      " \n"
     ]
    },
    {
     "name": "stdout",
     "output_type": "stream",
     "text": [
      "Your spin:  20  Black\n"
     ]
    },
    {
     "name": "stdin",
     "output_type": "stream",
     "text": [
      " \n"
     ]
    },
    {
     "name": "stdout",
     "output_type": "stream",
     "text": [
      "Your spin:  21  Red\n"
     ]
    },
    {
     "name": "stdin",
     "output_type": "stream",
     "text": [
      " \n"
     ]
    },
    {
     "name": "stdout",
     "output_type": "stream",
     "text": [
      "Your spin:  11  Black\n"
     ]
    },
    {
     "name": "stdin",
     "output_type": "stream",
     "text": [
      " \n"
     ]
    },
    {
     "name": "stdout",
     "output_type": "stream",
     "text": [
      "Your spin:  14  Red\n"
     ]
    },
    {
     "name": "stdin",
     "output_type": "stream",
     "text": [
      " \n"
     ]
    },
    {
     "name": "stdout",
     "output_type": "stream",
     "text": [
      "Your spin:  19  Red\n"
     ]
    }
   ],
   "source": [
    "# Roulette: 36 numbers (18 red and 18 black) and Zero\n",
    "red = {1, 3, 5, 7, 9, 12, 14, 16, 18, 19, 21, 23, 25, 27, 30, 32, 34, 36}\n",
    "black = {2, 4, 6, 8, 10, 11, 13, 15, 17, 20, 22, 24, 26, 28, 29, 31, 33, 35}\n",
    "zero = 0\n",
    "\n",
    "for i in range(0, 5):\n",
    "    roll = input()    \n",
    "    spin = np.random.randint(0, 37)\n",
    "    if spin in red:\n",
    "        print(\"Your spin: \", spin, \" Red\")\n",
    "    elif spin in black:\n",
    "        print(\"Your spin: \", spin, \" Black\")\n",
    "    elif spin == zero:\n",
    "        print(\"Your spin is Zero!\")"
   ]
  },
  {
   "cell_type": "markdown",
   "metadata": {},
   "source": [
    "__Задание 2__  \n",
    "1) Напишите код, проверяющий любую из теорем сложения или умножения вероятности на примере рулетки или подбрасывания монетки.  \n",
    "2) Сгенерируйте десять выборок случайных чисел `х0, …, х9` и постройте гистограмму распределения случайной суммы `х0 + х1 + … + х9`."
   ]
  },
  {
   "cell_type": "markdown",
   "metadata": {},
   "source": [
    "Total probabiity of pairwise disjoint events:\n",
    "$$P = P_{head} + P_{tail} = 1$$"
   ]
  },
  {
   "cell_type": "code",
   "execution_count": 3,
   "metadata": {},
   "outputs": [
    {
     "name": "stdout",
     "output_type": "stream",
     "text": [
      "Number of experiments: 1000 \n",
      "Heads: 519 \n",
      "Tails: 481 \n",
      "P(Heads): 0.519 \n",
      "P(Tails): 0.481 \n",
      "P(Heads+Tails): 1.0\n"
     ]
    }
   ],
   "source": [
    "# Monte Carlo method with a coin (one side is the Head, another side is the Tail)\n",
    "head, tail = 0, 0\n",
    "n = 1000\n",
    "for i in range(0, n):\n",
    "    x = np.random.uniform(0, 10)\n",
    "    if x < 5:\n",
    "        head = head + 1\n",
    "    else: \n",
    "        tail = tail + 1\n",
    "print(f'Number of experiments: {n} \\nHeads: {head} \\nTails: {tail} \\nP(Heads): {head/n} \\nP(Tails): {tail/n} \\nP(Heads+Tails): {head/n + tail/n}')"
   ]
  },
  {
   "cell_type": "code",
   "execution_count": 4,
   "metadata": {},
   "outputs": [
    {
     "name": "stdout",
     "output_type": "stream",
     "text": [
      "Generated array x0\n",
      "Generated array x1\n",
      "Generated array x2\n",
      "Generated array x3\n",
      "Generated array x4\n",
      "Generated array x5\n",
      "Generated array x6\n",
      "Generated array x7\n",
      "Generated array x8\n",
      "Generated array x9\n",
      "Array x_sum is calculated as a sum of arrays x0, x1, ... , x9\n"
     ]
    }
   ],
   "source": [
    "# Generate 10 arrays of random numbers\n",
    "# Calculate array x as sum of arrays x0, x1, ... , x9\n",
    "n = 50000\n",
    "x_sum = [0] * n\n",
    "for i in range(0, 10):        \n",
    "    xn = f'x{i}'\n",
    "    xn = np.random.rand(n)\n",
    "    print(\"Generated array\", f'x{i}')\n",
    "    x_sum = x_sum + xn\n",
    "    i += 1\n",
    "print(\"Array x_sum is calculated as a sum of arrays x0, x1, ... , x9\")"
   ]
  },
  {
   "cell_type": "code",
   "execution_count": 5,
   "metadata": {},
   "outputs": [
    {
     "data": {
      "text/plain": [
       "Text(0.5, 1.0, 'Histogram')"
      ]
     },
     "execution_count": 5,
     "metadata": {},
     "output_type": "execute_result"
    },
    {
     "data": {
      "image/png": "[encoded data removed]",
      "text/plain": [
       "<Figure size 432x288 with 1 Axes>"
      ]
     },
     "metadata": {
      "needs_background": "light"
     },
     "output_type": "display_data"
    }
   ],
   "source": [
    "num_bins = 20\n",
    "n, bins, patches = plt.hist(x_sum, num_bins)\n",
    "plt.xlabel('x_sum')\n",
    "plt.ylabel('Probability')\n",
    "plt.title('Histogram')"
   ]
  },
  {
   "cell_type": "markdown",
   "metadata": {},
   "source": [
    "__Задание 3__  \n",
    "1) Дополните код Монте-Карло последовательности независимых испытаний расчетом соответствующих вероятностей (через биномиальное распределение) \n",
    "и сравните результаты.  \n",
    "2) Повторите расчеты биномиальных коэффициентов и вероятностей `k` успехов в последовательности из `n` независимых испытаний, взяв другие значения `n` и `k`.\n"
   ]
  },
  {
   "cell_type": "markdown",
   "metadata": {},
   "source": [
    "Binomial Distribution. \n",
    "Bernoulli experiment with `n` independent trials:\n",
    "$$P_n(k) = C_n^k \\cdot p^k \\cdot q^{n - k}$$\n",
    "Combinations:\n",
    "$$C_n^k = \\frac{n!}{k! \\: (n - k)!}$$"
   ]
  },
  {
   "cell_type": "code",
   "execution_count": 6,
   "metadata": {},
   "outputs": [
    {
     "name": "stdout",
     "output_type": "stream",
     "text": [
      "359 1000 0.359\n"
     ]
    }
   ],
   "source": [
    "k, n = 0, 1000\n",
    "a = np.random.randint(0, 2, n)\n",
    "b = np.random.randint(0, 2, n)\n",
    "c = np.random.randint(0, 2, n)\n",
    "d = np.random.randint(0, 2, n)\n",
    "x = a + b + c + d\n",
    "for i in range(0, n):\n",
    "    if x[i] == 2:\n",
    "        k = k + 1\n",
    "print(k, n, k/n)"
   ]
  },
  {
   "cell_type": "code",
   "execution_count": 7,
   "metadata": {},
   "outputs": [
    {
     "data": {
      "text/plain": [
       "0.375"
      ]
     },
     "execution_count": 7,
     "metadata": {},
     "output_type": "execute_result"
    }
   ],
   "source": [
    "k, n = 2, 4\n",
    "p = 0.5 # success probability\n",
    "q = 1 - p # failure probability\n",
    "\n",
    "# Binomial coefficient (calculated as combinations)\n",
    "C = math.factorial(n) / (math.factorial(k) * math.factorial(n - k))\n",
    "\n",
    "# Probability\n",
    "P_nk = C * (p ** k) * (q ** (n - k))\n",
    "P_nk"
   ]
  },
  {
   "cell_type": "markdown",
   "metadata": {},
   "source": [
    "__Задание 4__  \n",
    "Из урока по комбинаторике повторите расчеты, сгенерировав возможные варианты перестановок для других значений `n` и `k`."
   ]
  },
  {
   "cell_type": "markdown",
   "metadata": {},
   "source": [
    "Permutations:\n",
    "$$P_n = n!$$"
   ]
  },
  {
   "cell_type": "markdown",
   "metadata": {},
   "source": [
    "Arrangements:\n",
    "$$A_n^k = \\frac{n!}{(n - k)!}$$"
   ]
  },
  {
   "cell_type": "markdown",
   "metadata": {},
   "source": [
    "Combinations:\n",
    "$$C_n^k = \\frac{n!}{k! \\: (n - k)!}$$"
   ]
  },
  {
   "cell_type": "code",
   "execution_count": 8,
   "metadata": {},
   "outputs": [],
   "source": [
    "n = 3 # a, b, c"
   ]
  },
  {
   "cell_type": "code",
   "execution_count": 9,
   "metadata": {},
   "outputs": [
    {
     "name": "stdout",
     "output_type": "stream",
     "text": [
      "abc\n",
      "acb\n",
      "bac\n",
      "bca\n",
      "cab\n",
      "cba\n"
     ]
    }
   ],
   "source": [
    "# Permutations\n",
    "k = n\n",
    "for p in itertools.permutations(\"abc\", k):\n",
    "    print(''.join(str(x) for x in p))"
   ]
  },
  {
   "cell_type": "code",
   "execution_count": 10,
   "metadata": {},
   "outputs": [
    {
     "data": {
      "text/plain": [
       "6"
      ]
     },
     "execution_count": 10,
     "metadata": {},
     "output_type": "execute_result"
    }
   ],
   "source": [
    "# Permutations by formula\n",
    "math.factorial(n)"
   ]
  },
  {
   "cell_type": "code",
   "execution_count": 11,
   "metadata": {},
   "outputs": [
    {
     "name": "stdout",
     "output_type": "stream",
     "text": [
      "ab\n",
      "ac\n",
      "ba\n",
      "bc\n",
      "ca\n",
      "cb\n"
     ]
    }
   ],
   "source": [
    "# Arrangements\n",
    "k = 2\n",
    "for p in itertools.permutations(\"abc\", k):\n",
    "    print(''.join(str(x) for x in p))"
   ]
  },
  {
   "cell_type": "code",
   "execution_count": 12,
   "metadata": {},
   "outputs": [
    {
     "data": {
      "text/plain": [
       "6"
      ]
     },
     "execution_count": 12,
     "metadata": {},
     "output_type": "execute_result"
    }
   ],
   "source": [
    "# Arrangements by formula\n",
    "math.factorial(n) // math.factorial(n - k)"
   ]
  },
  {
   "cell_type": "code",
   "execution_count": 13,
   "metadata": {},
   "outputs": [
    {
     "name": "stdout",
     "output_type": "stream",
     "text": [
      "ab\n",
      "ac\n",
      "bc\n"
     ]
    }
   ],
   "source": [
    "# Combinations\n",
    "k = 2\n",
    "for p in itertools.combinations(\"abc\", k):\n",
    "    print(''.join(p))"
   ]
  },
  {
   "cell_type": "code",
   "execution_count": 14,
   "metadata": {},
   "outputs": [
    {
     "data": {
      "text/plain": [
       "3"
      ]
     },
     "execution_count": 14,
     "metadata": {},
     "output_type": "execute_result"
    }
   ],
   "source": [
    "# Combinations by formula\n",
    "math.factorial(n) // (math.factorial(k) * math.factorial(n - k))"
   ]
  },
  {
   "cell_type": "markdown",
   "metadata": {},
   "source": [
    "__Задание 5__  \n",
    "Дополните код расчетом коэффициента корреляции `x` и `y` по формуле:\n",
    "$$R = \\frac{\\sum(x_i - x_m) \\cdot (y_i - y_m)}{\\sqrt{\\sum(x_i - x_m)^2 \\cdot \\sum(y_i - y_m)^2}}$$"
   ]
  },
  {
   "cell_type": "markdown",
   "metadata": {},
   "source": [
    "Coefficients of a linear regression equation:\n",
    "\n",
    "$$a = \\frac{\\sum{x_i}\\sum{y_i} - n \\sum{x_i y_i}}{{(\\sum{x_i})^2} - n \\sum{x_i}^2}$$"
   ]
  },
  {
   "cell_type": "markdown",
   "metadata": {},
   "source": [
    "$$b = \\frac{\\sum{y_i} - a \\sum{x_i}}{n}$$"
   ]
  },
  {
   "cell_type": "code",
   "execution_count": 15,
   "metadata": {},
   "outputs": [
    {
     "name": "stdout",
     "output_type": "stream",
     "text": [
      "Coefficients of the linear regression equation:\n",
      "0.6725899414612003 0.16867684290883786  (by formula)\n",
      "0.6725899414612005 0.1686768429088377  (using built-in functions)\n"
     ]
    },
    {
     "data": {
      "image/png": "[encoded data removed]",
      "text/plain": [
       "<Figure size 432x288 with 1 Axes>"
      ]
     },
     "metadata": {
      "needs_background": "light"
     },
     "output_type": "display_data"
    }
   ],
   "source": [
    "n = 100\n",
    "r = 0.7\n",
    "x = np.random.rand(n)\n",
    "y = r*x + (1 - r)*np.random.rand(n)\n",
    "\n",
    "plt.plot(x, y, 'o')\n",
    "plt.xlabel('x')\n",
    "plt.ylabel('y')\n",
    "plt.grid(True)\n",
    "\n",
    "# Calculate coefficients a and b by formula\n",
    "a = (np.sum(x) * np.sum(y) - n * np.sum(x*y)) / (np.sum(x) * np.sum(x) - n * np.sum(x*x))\n",
    "b = (np.sum(y) - a * np.sum(x)) / n\n",
    "\n",
    "# Calculate coefficients a and b using built-in functions\n",
    "A = np.vstack([x, np.ones(len(x))]).T\n",
    "a1, b1 = np.linalg.lstsq(A, y, rcond=None)[0]\n",
    "\n",
    "print(\"Coefficients of the linear regression equation:\")\n",
    "print(a, b, \" (by formula)\")\n",
    "print(a1, b1, \" (using built-in functions)\")\n",
    "\n",
    "plt.plot([0, 1], [b, a + b])\n",
    "plt.show()"
   ]
  },
  {
   "cell_type": "code",
   "execution_count": 16,
   "metadata": {},
   "outputs": [
    {
     "data": {
      "text/plain": [
       "array([[1.        , 0.90883402],\n",
       "       [0.90883402, 1.        ]])"
      ]
     },
     "execution_count": 16,
     "metadata": {},
     "output_type": "execute_result"
    }
   ],
   "source": [
    "# Calculate correlation coefficient by formula\n",
    "x_mean = np.sum(x) / n\n",
    "y_mean = np.sum(y) / n\n",
    "R_xy = np.sum((x - x_mean) * (y - y_mean)) / math.sqrt(np.sum((x - x_mean) ** 2) * np.sum((y - y_mean) ** 2))\n",
    "\n",
    "# Calculate correlation coefficient using built-in function\n",
    "R_xy_mtrx = np.corrcoef(x, y)\n",
    "R_xy_mtrx"
   ]
  },
  {
   "cell_type": "code",
   "execution_count": 17,
   "metadata": {},
   "outputs": [
    {
     "name": "stdout",
     "output_type": "stream",
     "text": [
      "Correlation coefficient:\n",
      "0.9088340224029842  (by formula)\n",
      "0.9088340224029846  (using built-in functions)\n"
     ]
    }
   ],
   "source": [
    "print(\"Correlation coefficient:\")\n",
    "print(R_xy, \" (by formula)\")\n",
    "print(R_xy_mtrx[0, 1], \" (using built-in functions)\")"
   ]
  }
 ],
 "metadata": {
  "kernelspec": {
   "display_name": "Python 3",
   "language": "python",
   "name": "python3"
  },
  "language_info": {
   "codemirror_mode": {
    "name": "ipython",
    "version": 3
   },
   "file_extension": ".py",
   "mimetype": "text/x-python",
   "name": "python",
   "nbconvert_exporter": "python",
   "pygments_lexer": "ipython3",
   "version": "3.7.3"
  }
 },
 "nbformat": 4,
 "nbformat_minor": 2
}
