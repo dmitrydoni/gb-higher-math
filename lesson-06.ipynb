{
 "cells": [
  {
   "cell_type": "markdown",
   "metadata": {},
   "source": [
    "## Урок 6\n",
    "### Элементы теории вероятностей"
   ]
  },
  {
   "cell_type": "code",
   "execution_count": 1,
   "metadata": {},
   "outputs": [],
   "source": [
    "import numpy as np"
   ]
  },
  {
   "cell_type": "markdown",
   "metadata": {},
   "source": [
    "__Задание 1__  \n",
    "Найти вероятность выпадения `2` или `5` очков при подбрасывании игральной кости, на гранях которой имеются соответственно `1`, `2`, `3`, `4`, `5` и `6` очков."
   ]
  },
  {
   "cell_type": "code",
   "execution_count": 2,
   "metadata": {},
   "outputs": [
    {
     "data": {
      "text/plain": [
       "0.3333333333333333"
      ]
     },
     "execution_count": 2,
     "metadata": {},
     "output_type": "execute_result"
    }
   ],
   "source": [
    "# Probability of '2' (P_2) is 1/6\n",
    "P_2 = 1/6\n",
    "# Probability of '5' (P_5) is 1/6\n",
    "P_5 = 1/6\n",
    "# Probability of '2' or '5' is P_2 + P_5\n",
    "P_2or5 = P_2 + P_5\n",
    "P_2or5"
   ]
  },
  {
   "cell_type": "markdown",
   "metadata": {},
   "source": [
    "__Задание 2__  \n",
    "Найти вероятность того, что при двух подбрасываниях той же самой игральной кости сначала выпадет `2`, а затем `5`."
   ]
  },
  {
   "cell_type": "code",
   "execution_count": 3,
   "metadata": {},
   "outputs": [
    {
     "data": {
      "text/plain": [
       "0.027777777777777776"
      ]
     },
     "execution_count": 3,
     "metadata": {},
     "output_type": "execute_result"
    }
   ],
   "source": [
    "# Probability of '2' (P_2) is 1/6\n",
    "P_2 = 1/6\n",
    "# Probability of '5' (P_5) is 1/6\n",
    "P_5 = 1/6\n",
    "# Probability of '2' and '5' is P_2 * P_5\n",
    "P_2and5 = P_2 * P_5\n",
    "P_2and5"
   ]
  },
  {
   "cell_type": "markdown",
   "metadata": {},
   "source": [
    "__Задание 3__  \n",
    "Найти вероятность выпадения `2` и `5` очков при двух подбрасываниях той же самой игральной игральной кости."
   ]
  },
  {
   "cell_type": "code",
   "execution_count": 4,
   "metadata": {},
   "outputs": [
    {
     "data": {
      "text/plain": [
       "0.05555555555555555"
      ]
     },
     "execution_count": 4,
     "metadata": {},
     "output_type": "execute_result"
    }
   ],
   "source": [
    "# Dice roll 1: probability of '2' and '5'\n",
    "P_2and5 = P_2 * P_5\n",
    "\n",
    "# Dice roll 2: probability of '5' and '2'\n",
    "P_5and2 = P_2and5\n",
    "\n",
    "# Probability of ('2' and '5') or ('5' and '2')\n",
    "P_2and5_or_5and2 = P_2and5 + P_5and2\n",
    "P_2and5_or_5and2"
   ]
  },
  {
   "cell_type": "markdown",
   "metadata": {},
   "source": [
    "__Задание 4__  \n",
    "На отрезке `AB` длиной `20 см` наугад отметили точку `C`. Какова вероятность, что она находится на расстоянии не более `9 см` от точки `А` и не более `15 см` от точки `В`?"
   ]
  },
  {
   "cell_type": "code",
   "execution_count": 5,
   "metadata": {},
   "outputs": [
    {
     "data": {
      "text/plain": [
       "4"
      ]
     },
     "execution_count": 5,
     "metadata": {},
     "output_type": "execute_result"
    }
   ],
   "source": [
    "AB = 20\n",
    "AC = 9\n",
    "BC = 15\n",
    "\n",
    "# Find the length of the segment on which point C can be placed so that AC<=9 and BC<=15\n",
    "ACB = AC + BC\n",
    "CC = ACB - AB\n",
    "CC"
   ]
  },
  {
   "cell_type": "code",
   "execution_count": 6,
   "metadata": {},
   "outputs": [
    {
     "data": {
      "text/plain": [
       "0.2"
      ]
     },
     "execution_count": 6,
     "metadata": {},
     "output_type": "execute_result"
    }
   ],
   "source": [
    "# Probability that point C belongs to the CC segment\n",
    "P = CC / AB\n",
    "P"
   ]
  },
  {
   "cell_type": "markdown",
   "metadata": {},
   "source": [
    "__Задание 5__  \n",
    "Телефонный номер состоит из `7` цифр. Какова вероятность, что это номер `8882227`?"
   ]
  },
  {
   "cell_type": "code",
   "execution_count": 7,
   "metadata": {},
   "outputs": [
    {
     "data": {
      "text/plain": [
       "10000000"
      ]
     },
     "execution_count": 7,
     "metadata": {},
     "output_type": "execute_result"
    }
   ],
   "source": [
    "numbers = 10 # 0, 1, ..., 9\n",
    "digits = 7 # NNNNNNN\n",
    "\n",
    "# Find the number of all possible outcomes\n",
    "n = numbers ** digits\n",
    "n"
   ]
  },
  {
   "cell_type": "code",
   "execution_count": 8,
   "metadata": {},
   "outputs": [
    {
     "data": {
      "text/plain": [
       "1e-07"
      ]
     },
     "execution_count": 8,
     "metadata": {},
     "output_type": "execute_result"
    }
   ],
   "source": [
    "s = 1 # success outcomes\n",
    "\n",
    "# Calculate probability\n",
    "P = s / n\n",
    "P"
   ]
  },
  {
   "cell_type": "markdown",
   "metadata": {},
   "source": [
    "__Задание 6__  \n",
    "Набирая номер телефона, абонент забыл `2` последние цифры, и, помня только то, что эти цифры различны и среди них нет нуля, стал набирать их наудачу. Сколько вариантов ему надо перебрать, чтобы наверняка найти нужный номер? Какова вероятность того, что он угадает номер с первого раза?"
   ]
  },
  {
   "cell_type": "code",
   "execution_count": 9,
   "metadata": {},
   "outputs": [
    {
     "data": {
      "text/plain": [
       "(9, 8)"
      ]
     },
     "execution_count": 9,
     "metadata": {},
     "output_type": "execute_result"
    }
   ],
   "source": [
    "# Find the number of possible outcomes for digit_1 and digit_2\n",
    "n_digit1 = 9 # 1, 2, ..., 9\n",
    "n_digit2 = n_digit1 - 1 # digit_1 != digit_2\n",
    "\n",
    "n_digit1, n_digit2"
   ]
  },
  {
   "cell_type": "code",
   "execution_count": 10,
   "metadata": {},
   "outputs": [
    {
     "data": {
      "text/plain": [
       "72"
      ]
     },
     "execution_count": 10,
     "metadata": {},
     "output_type": "execute_result"
    }
   ],
   "source": [
    "# Find the number of all possible outcomes\n",
    "n_digits12 = n_digit1 * n_digit2\n",
    "\n",
    "n_digits12"
   ]
  },
  {
   "cell_type": "code",
   "execution_count": 11,
   "metadata": {},
   "outputs": [
    {
     "data": {
      "text/plain": [
       "0.013888888888888888"
      ]
     },
     "execution_count": 11,
     "metadata": {},
     "output_type": "execute_result"
    }
   ],
   "source": [
    "s = 1 # success outcomes\n",
    "\n",
    "# Calculate probability\n",
    "P = s / n_digits12\n",
    "P"
   ]
  }
 ],
 "metadata": {
  "kernelspec": {
   "display_name": "Python 3",
   "language": "python",
   "name": "python3"
  },
  "language_info": {
   "codemirror_mode": {
    "name": "ipython",
    "version": 3
   },
   "file_extension": ".py",
   "mimetype": "text/x-python",
   "name": "python",
   "nbconvert_exporter": "python",
   "pygments_lexer": "ipython3",
   "version": "3.7.3"
  }
 },
 "nbformat": 4,
 "nbformat_minor": 2
}
