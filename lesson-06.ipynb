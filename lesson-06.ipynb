{
 "cells": [
  {
   "cell_type": "markdown",
   "metadata": {},
   "source": [
    "## Урок 6\n",
    "### Элементы теории вероятностей"
   ]
  },
  {
   "cell_type": "code",
   "execution_count": 1,
   "metadata": {},
   "outputs": [],
   "source": [
    "import numpy as np"
   ]
  },
  {
   "cell_type": "markdown",
   "metadata": {},
   "source": [
    "__Задание 1__  \n",
    "Найти вероятность выпадения `2` или `5` очков при подбрасывании игральной кости, на гранях которой имеются соответственно `1`, `2`, `3`, `4`, `5` и `6` очков."
   ]
  },
  {
   "cell_type": "code",
   "execution_count": 2,
   "metadata": {},
   "outputs": [
    {
     "data": {
      "text/plain": [
       "0.3333333333333333"
      ]
     },
     "execution_count": 2,
     "metadata": {},
     "output_type": "execute_result"
    }
   ],
   "source": [
    "# Probability of '2' (P_2) is 1/6\n",
    "P_2 = 1/6\n",
    "# Probability of '5' (P_5) is 1/6\n",
    "P_5 = 1/6\n",
    "# Probability of '2' or '5' is P_2 + P_5\n",
    "P_2or5 = P_2 + P_5\n",
    "P_2or5"
   ]
  },
  {
   "cell_type": "markdown",
   "metadata": {},
   "source": [
    "__Задание 2__  \n",
    "Найти вероятность того, что при двух подбрасываниях той же самой игральной кости сначала выпадет `2`, а затем `5`."
   ]
  },
  {
   "cell_type": "code",
   "execution_count": 3,
   "metadata": {},
   "outputs": [
    {
     "data": {
      "text/plain": [
       "0.027777777777777776"
      ]
     },
     "execution_count": 3,
     "metadata": {},
     "output_type": "execute_result"
    }
   ],
   "source": [
    "# Probability of '2' (P_2) is 1/6\n",
    "P_2 = 1/6\n",
    "# Probability of '5' (P_5) is 1/6\n",
    "P_5 = 1/6\n",
    "# Probability of '2' and '5' is P_2 * P_5\n",
    "P_2and5 = P_2 * P_5\n",
    "P_2and5"
   ]
  },
  {
   "cell_type": "markdown",
   "metadata": {},
   "source": [
    "__Задание 3__  \n",
    "Найти вероятность выпадения `2` и `5` очков при двух подбрасываниях той же самой игральной игральной кости."
   ]
  },
  {
   "cell_type": "code",
   "execution_count": 4,
   "metadata": {},
   "outputs": [
    {
     "data": {
      "text/plain": [
       "0.05555555555555555"
      ]
     },
     "execution_count": 4,
     "metadata": {},
     "output_type": "execute_result"
    }
   ],
   "source": [
    "# Dice roll 1: probability of '2' and '5'\n",
    "P_2and5 = P_2 * P_5\n",
    "\n",
    "# Dice roll 2: probability of '2' and '5'\n",
    "P_5and2 = P_2and5\n",
    "\n",
    "# Probability of ('2' and '5') or ('5' and '2')\n",
    "P_2and5_or_5and2 = P_2and5 + P_5and2\n",
    "P_2and5_or_5and2"
   ]
  },
  {
   "cell_type": "markdown",
   "metadata": {},
   "source": [
    "__Задание 4__  \n",
    "На отрезке `AB` длиной `20 см` наугад отметили точку `C`. Какова вероятность, что она находится на расстоянии не более `9 см` от точки `А` и не более `15 см` от точки `В`?"
   ]
  },
  {
   "cell_type": "code",
   "execution_count": 5,
   "metadata": {},
   "outputs": [
    {
     "data": {
      "text/plain": [
       "4"
      ]
     },
     "execution_count": 5,
     "metadata": {},
     "output_type": "execute_result"
    }
   ],
   "source": [
    "AB = 20\n",
    "AC = 9\n",
    "BC = 15\n",
    "ACB = AC + BC\n",
    "\n",
    "# Find the length of the segment on which point C can be placed so that AC<=9 and BC<=15\n",
    "CC = ACB - AB\n",
    "CC"
   ]
  },
  {
   "cell_type": "code",
   "execution_count": 6,
   "metadata": {},
   "outputs": [
    {
     "data": {
      "text/plain": [
       "0.2"
      ]
     },
     "execution_count": 6,
     "metadata": {},
     "output_type": "execute_result"
    }
   ],
   "source": [
    "# Probability of point C to belong to CC segment\n",
    "P = CC / AB\n",
    "P"
   ]
  },
  {
   "cell_type": "markdown",
   "metadata": {},
   "source": [
    "__Задание 5__  \n",
    "Телефонный номер состоит из `7` цифр. Какова вероятность, что это номер `8882227`?"
   ]
  },
  {
   "cell_type": "code",
   "execution_count": null,
   "metadata": {},
   "outputs": [],
   "source": []
  },
  {
   "cell_type": "markdown",
   "metadata": {},
   "source": [
    "__Задание 6__  \n",
    "Набирая номер телефона, абонент забыл `2` последние цифры, и, помня только то, что эти цифры различны и среди них нет нуля, стал набирать их наудачу. Сколько вариантов ему надо перебрать, чтобы наверняка найти нужный номер? Какова вероятность того, что он угадает номер с первого раза?"
   ]
  },
  {
   "cell_type": "code",
   "execution_count": null,
   "metadata": {},
   "outputs": [],
   "source": []
  },
  {
   "cell_type": "code",
   "execution_count": null,
   "metadata": {},
   "outputs": [],
   "source": []
  }
 ],
 "metadata": {
  "kernelspec": {
   "display_name": "Python 3",
   "language": "python",
   "name": "python3"
  },
  "language_info": {
   "codemirror_mode": {
    "name": "ipython",
    "version": 3
   },
   "file_extension": ".py",
   "mimetype": "text/x-python",
   "name": "python",
   "nbconvert_exporter": "python",
   "pygments_lexer": "ipython3",
   "version": "3.7.3"
  }
 },
 "nbformat": 4,
 "nbformat_minor": 2
}
