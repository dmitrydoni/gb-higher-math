{
 "cells": [
  {
   "cell_type": "markdown",
   "metadata": {},
   "source": [
    "## Урок 7\n",
    "### Введение в линейную алгебру"
   ]
  },
  {
   "cell_type": "code",
   "execution_count": 1,
   "metadata": {},
   "outputs": [],
   "source": [
    "import numpy as np\n",
    "import matplotlib.pyplot as plt\n",
    "import scipy\n",
    "import scipy.linalg"
   ]
  },
  {
   "cell_type": "markdown",
   "metadata": {},
   "source": [
    "__Задание 1__  \n",
    "Вектор – это частный случай матрицы `1хN` и `Nх1`. Повторите материал для векторов, уделяя особое внимание умножению `A∙B`.\n",
    "Вычислите, по возможности не используя программирование: `(5Е)^(-1)`, где `Е` – единичная матрица размера `5х5`."
   ]
  },
  {
   "cell_type": "markdown",
   "metadata": {},
   "source": [
    "__Решение__"
   ]
  },
  {
   "cell_type": "markdown",
   "metadata": {},
   "source": [
    "$$E = \\begin{bmatrix}\n",
    "1 & 0 & 0 & 0 & 0 \\\\ \n",
    "0 & 1 & 0 & 0 & 0 \\\\\n",
    "0 & 0 & 1 & 0 & 0 \\\\\n",
    "0 & 0 & 0 & 1 & 0 \\\\\n",
    "0 & 0 & 0 & 0 & 1 \\\\\n",
    "\\end{bmatrix}$$  "
   ]
  },
  {
   "cell_type": "markdown",
   "metadata": {},
   "source": [
    "$$E^{-1} = E$$"
   ]
  },
  {
   "cell_type": "code",
   "execution_count": 2,
   "metadata": {},
   "outputs": [
    {
     "data": {
      "text/plain": [
       "array([[1., 0., 0., 0., 0.],\n",
       "       [0., 1., 0., 0., 0.],\n",
       "       [0., 0., 1., 0., 0.],\n",
       "       [0., 0., 0., 1., 0.],\n",
       "       [0., 0., 0., 0., 1.]])"
      ]
     },
     "execution_count": 2,
     "metadata": {},
     "output_type": "execute_result"
    }
   ],
   "source": [
    "e = np.identity(5)\n",
    "e"
   ]
  },
  {
   "cell_type": "code",
   "execution_count": 3,
   "metadata": {},
   "outputs": [
    {
     "data": {
      "text/plain": [
       "array([[5., 0., 0., 0., 0.],\n",
       "       [0., 5., 0., 0., 0.],\n",
       "       [0., 0., 5., 0., 0.],\n",
       "       [0., 0., 0., 5., 0.],\n",
       "       [0., 0., 0., 0., 5.]])"
      ]
     },
     "execution_count": 3,
     "metadata": {},
     "output_type": "execute_result"
    }
   ],
   "source": [
    "e5 = 5 * e\n",
    "e5"
   ]
  },
  {
   "cell_type": "code",
   "execution_count": 4,
   "metadata": {},
   "outputs": [
    {
     "data": {
      "text/plain": [
       "array([[ 0.2,  0. ,  0. ,  0. ,  0. ],\n",
       "       [ 0. ,  0.2,  0. ,  0. ,  0. ],\n",
       "       [ 0. ,  0. ,  0.2,  0. ,  0. ],\n",
       "       [-0. , -0. , -0. ,  0.2, -0. ],\n",
       "       [ 0. ,  0. ,  0. ,  0. ,  0.2]])"
      ]
     },
     "execution_count": 4,
     "metadata": {},
     "output_type": "execute_result"
    }
   ],
   "source": [
    "e5_inv = np.linalg.inv(e5)\n",
    "e5_inv"
   ]
  },
  {
   "cell_type": "markdown",
   "metadata": {},
   "source": [
    "__Задание 2__  \n",
    "Вычислите определитель:\n",
    "$$\\begin{vmatrix}\n",
    "1 & 2 & 3 \\\\ \n",
    "4 & 0 & 6 \\\\\n",
    "7 & 8 & 9 \\\\\n",
    "\\end{vmatrix}$$"
   ]
  },
  {
   "cell_type": "markdown",
   "metadata": {},
   "source": [
    "__Решение__"
   ]
  },
  {
   "cell_type": "markdown",
   "metadata": {},
   "source": [
    "Determinant of a square matrix:\n",
    "$$\\begin{vmatrix}\n",
    "a & c \\\\ \n",
    "b & d \\\\\n",
    "\\end{vmatrix} = ad - bc$$"
   ]
  },
  {
   "cell_type": "markdown",
   "metadata": {},
   "source": [
    "$$\\begin{vmatrix}\n",
    "a_1 & b_1 & c_1 \\\\ \n",
    "a_2 & b_2 & c_2 \\\\\n",
    "a_3 & b_3 & c_3 \\\\\n",
    "\\end{vmatrix} = a_1 b_2 c_3 + a_3 b_1 c_2 + a_2 b_3 c_1 - a_3 b_2 c_1 - a_1 b_3 c_2 - a_2 b_1 c_3$$"
   ]
  },
  {
   "cell_type": "code",
   "execution_count": 5,
   "metadata": {},
   "outputs": [
    {
     "data": {
      "text/plain": [
       "60"
      ]
     },
     "execution_count": 5,
     "metadata": {},
     "output_type": "execute_result"
    }
   ],
   "source": [
    "# Determinant by formula\n",
    "1*0*9 + 7*2*6 + 4*8*3 - 7*0*3 - 1*8*6 - 4*2*9 "
   ]
  },
  {
   "cell_type": "code",
   "execution_count": 6,
   "metadata": {},
   "outputs": [
    {
     "data": {
      "text/plain": [
       "59.999999999999986"
      ]
     },
     "execution_count": 6,
     "metadata": {},
     "output_type": "execute_result"
    }
   ],
   "source": [
    "# Determinant using a built-in function\n",
    "A = np.array([[1, 2, 3], [4, 0, 6], [7, 8, 9]])\n",
    "np.linalg.det(A)"
   ]
  },
  {
   "cell_type": "markdown",
   "metadata": {},
   "source": [
    "__Задание 3__  \n",
    "Вычислите матрицу, обратную данной:\n",
    "$$\\begin{vmatrix}\n",
    "1 & 2 & 3 \\\\ \n",
    "4 & 0 & 6 \\\\\n",
    "7 & 8 & 9 \\\\\n",
    "\\end{vmatrix}$$"
   ]
  },
  {
   "cell_type": "markdown",
   "metadata": {},
   "source": [
    "__Решение__"
   ]
  },
  {
   "cell_type": "code",
   "execution_count": 7,
   "metadata": {},
   "outputs": [
    {
     "data": {
      "text/plain": [
       "array([[-0.8       ,  0.1       ,  0.2       ],\n",
       "       [ 0.1       , -0.2       ,  0.1       ],\n",
       "       [ 0.53333333,  0.1       , -0.13333333]])"
      ]
     },
     "execution_count": 7,
     "metadata": {},
     "output_type": "execute_result"
    }
   ],
   "source": [
    "A = np.array([[1, 2, 3], [4, 0, 6], [7, 8, 9]])\n",
    "A_inv = np.linalg.inv(A)\n",
    "A_inv"
   ]
  },
  {
   "cell_type": "code",
   "execution_count": 8,
   "metadata": {},
   "outputs": [
    {
     "data": {
      "text/plain": [
       "3"
      ]
     },
     "execution_count": 8,
     "metadata": {},
     "output_type": "execute_result"
    }
   ],
   "source": [
    "np.linalg.matrix_rank(A, 0.0001)"
   ]
  },
  {
   "cell_type": "markdown",
   "metadata": {},
   "source": [
    "__Задание 4__  \n",
    "Вычислите скалярное произведение двух векторов:  \n",
    "`(1, 5)`  и  `(2, 8)`"
   ]
  },
  {
   "cell_type": "markdown",
   "metadata": {},
   "source": [
    "__Решение__"
   ]
  },
  {
   "cell_type": "markdown",
   "metadata": {},
   "source": [
    "_Dot product_ (a.k.a. _scalar product_):\n",
    "$$\\vec{a} \\cdot \\vec{b}$$"
   ]
  },
  {
   "cell_type": "code",
   "execution_count": 9,
   "metadata": {},
   "outputs": [
    {
     "data": {
      "text/plain": [
       "42"
      ]
     },
     "execution_count": 9,
     "metadata": {},
     "output_type": "execute_result"
    }
   ],
   "source": [
    "x1, y1 = 1, 5\n",
    "x2, y2 = 2, 8\n",
    "\n",
    "# Calculate scalar product manually \n",
    "s = x1*x2 + y1*y2\n",
    "s"
   ]
  },
  {
   "cell_type": "code",
   "execution_count": 10,
   "metadata": {},
   "outputs": [
    {
     "name": "stdout",
     "output_type": "stream",
     "text": [
      "42\n"
     ]
    },
    {
     "data": {
      "image/png": "[encoded data removed]",
      "text/plain": [
       "<Figure size 432x288 with 1 Axes>"
      ]
     },
     "metadata": {
      "needs_background": "light"
     },
     "output_type": "display_data"
    }
   ],
   "source": [
    "a = np.array([x1, y1])\n",
    "b = np.array([x2, y2])\n",
    "\n",
    "# Calculate scalar product using built-in function\n",
    "s = np.dot(a, b)\n",
    "print(s)\n",
    "\n",
    "X, Y = np.array([0, 0]), np.array([0, 0])\n",
    "U, V = np.array([a[0], b[0]]), np.array([a[1], b[1]])\n",
    "\n",
    "plt.quiver(X, Y, U, V, angles='xy', scale_units='xy', scale=1, color='green')\n",
    "\n",
    "plt.xlim(-1, 3)\n",
    "plt.ylim(-1, 9)\n",
    "plt.grid(True)\n",
    "plt.show()"
   ]
  },
  {
   "cell_type": "markdown",
   "metadata": {},
   "source": [
    "__Задание 5__  \n",
    "Вычислите смешанное произведение трех векторов:\n",
    "`(1, 5, 0)`, `(2, 8, 7)` и `(7, 1.5, 3)` "
   ]
  },
  {
   "cell_type": "markdown",
   "metadata": {},
   "source": [
    "__Решение__"
   ]
  },
  {
   "cell_type": "markdown",
   "metadata": {},
   "source": [
    "_Mixed product_ (a.k.a. _scalar triple product_) is the scalar product of the first vector with the vector product of the other two vectors: \n",
    "$$(\\vec{a} \\times \\vec{b}) \\cdot \\vec{c} = \\vec{a} \\cdot (\\vec{b} \\times \\vec{c})$$"
   ]
  },
  {
   "cell_type": "markdown",
   "metadata": {},
   "source": [
    "$\\vec{a} = (x_1, y_1, z_1)$  \n",
    "$\\vec{b} = (x_2, y_2, z_2)$  \n",
    "$\\vec{c} = (x_3, y_3, z_3)$"
   ]
  },
  {
   "cell_type": "code",
   "execution_count": 11,
   "metadata": {},
   "outputs": [
    {
     "name": "stdout",
     "output_type": "stream",
     "text": [
      "228.5\n",
      "228.5\n"
     ]
    }
   ],
   "source": [
    "x1, y1, z1 = 1, 5, 0\n",
    "x2, y2, z2 = 2, 8, 7\n",
    "x3, y3, z3 = 7, 1.5, 3\n",
    "\n",
    "a = np.array([x1, y1, z1])\n",
    "b = np.array([x2, y2, z2])\n",
    "c = np.array([x3, y3, z3])\n",
    "\n",
    "# Calculate v as the Cross product (a.k.a. vector product) of a and b\n",
    "# Then calculate the Dot product (a.k.a. scalar product) of v and c\n",
    "v = np.cross(a, b)\n",
    "print(np.inner(v, c))\n",
    "\n",
    "# Calculate w as the Cross product of b and c\n",
    "# Then calculate the Dot product of w and a\n",
    "w = np.cross(b, c)\n",
    "print(np.inner(w, a))"
   ]
  },
  {
   "cell_type": "markdown",
   "metadata": {},
   "source": [
    "### Системы линейных алгебраических уравнений"
   ]
  },
  {
   "cell_type": "markdown",
   "metadata": {},
   "source": [
    "__Задание 1__  \n",
    "Решите линейную систему:\n",
    "$$\\begin{bmatrix}\n",
    "1 & 2 & 3 \\\\ \n",
    "4 & 0 & 6 \\\\\n",
    "7 & 8 & 9 \\\\\n",
    "\\end{bmatrix} \n",
    "\\cdot X = \n",
    "\\begin{bmatrix}\n",
    "12 \\\\\n",
    "2 \\\\\n",
    "1 \\\\\n",
    "\\end{bmatrix} \n",
    "$$"
   ]
  },
  {
   "cell_type": "markdown",
   "metadata": {},
   "source": [
    "__Решение__"
   ]
  },
  {
   "cell_type": "code",
   "execution_count": 12,
   "metadata": {},
   "outputs": [
    {
     "data": {
      "text/plain": [
       "array([-9.2       ,  0.9       ,  6.46666667])"
      ]
     },
     "execution_count": 12,
     "metadata": {},
     "output_type": "execute_result"
    }
   ],
   "source": [
    "A = np.array([[1, 2, 3], [4, 0, 6], [7, 8, 9]])\n",
    "B = np.array([12, 2, 1])\n",
    "np.linalg.solve(A, B)"
   ]
  },
  {
   "cell_type": "markdown",
   "metadata": {},
   "source": [
    "__Задание 2__  \n",
    "Найдите псевдорешение:  \n",
    "$x + 2y – z = 1$  \n",
    "$3x – 4y = 7$  \n",
    "$8x – 5y + 2z = 12$  \n",
    "$2x – 5z = 7$  \n",
    "$11x +4y – 7z = 15$"
   ]
  },
  {
   "cell_type": "markdown",
   "metadata": {},
   "source": [
    "__Решение__"
   ]
  },
  {
   "cell_type": "markdown",
   "metadata": {},
   "source": [
    "System of linear equations:\n",
    "$$a_{00} \\cdot x_0 + a_{01} \\cdot x_1 + ... + a_{0n} \\cdot x_n = b_0 \\\\\n",
    "a_{10} \\cdot x_0 + a_{11} \\cdot x_1 + ... + a_{1n} \\cdot x_n = b_1 \\\\  \n",
    "... \\\\ \n",
    "a_{m0} \\cdot x_0 + a_{m1} \\cdot x_1 + ... + a_{mn} \\cdot x_n = b_m$$"
   ]
  },
  {
   "cell_type": "markdown",
   "metadata": {},
   "source": [
    "System of linear equations in matrix form:\n",
    "$$A = \n",
    "\\begin{pmatrix}\n",
    "a_{00} & a_{01} & ... & a_{0n} \\\\ \n",
    "a_{10} & a_{11} & ... & a_{1n} \\\\\n",
    "... \\\\\n",
    "a_{m0} & a_{m1} & ... & a_{mn} \\\\\n",
    "\\end{pmatrix},  \n",
    "X = \n",
    "\\begin{pmatrix}\n",
    "x_0 \\\\\n",
    "x_1 \\\\\n",
    "... \\\\\n",
    "x_n \\\\\n",
    "\\end{pmatrix},\n",
    "B = \n",
    "\\begin{pmatrix}\n",
    "b_0 \\\\\n",
    "b_1 \\\\\n",
    "... \\\\\n",
    "b_m \\\\\n",
    "\\end{pmatrix}$$  "
   ]
  },
  {
   "cell_type": "markdown",
   "metadata": {},
   "source": [
    "$$A \\cdot X = B$$"
   ]
  },
  {
   "cell_type": "code",
   "execution_count": 13,
   "metadata": {},
   "outputs": [
    {
     "name": "stdout",
     "output_type": "stream",
     "text": [
      "Matrix A:\n",
      " [[ 1  2 -1]\n",
      " [ 3 -4  0]\n",
      " [ 8 -5  2]\n",
      " [ 2  0 -5]\n",
      " [11  4 -7]]\n",
      "Vector B:\n",
      " [ 1  7 12  7 15]\n"
     ]
    }
   ],
   "source": [
    "a00, a01, a02 = 1, 2, -1\n",
    "a10, a11, a12 = 3, -4, 0\n",
    "a20, a21, a22 = 8, -5, 2\n",
    "a30, a31, a32 = 2, 0, -5\n",
    "a40, a41, a42 = 11, 4, -7\n",
    "b0, b1, b2, b3, b4 = 1, 7, 12, 7, 15\n",
    "\n",
    "A = np.array([[a00, a01, a02], [a10, a11, a12], [a20, a21, a22], [a30, a31, a32], [a40, a41, a42]])\n",
    "B = np.array([b0, b1, b2, b3, b4])\n",
    "\n",
    "print(\"Matrix A:\\n\", A)\n",
    "print(\"Vector B:\\n\", B)"
   ]
  },
  {
   "cell_type": "code",
   "execution_count": 14,
   "metadata": {},
   "outputs": [
    {
     "data": {
      "text/plain": [
       "(array([ 1.13919353, -0.90498444, -0.9009803 ]),\n",
       " array([0.71523211]),\n",
       " 3,\n",
       " array([15.2817306 ,  9.59852942,  3.65197794]))"
      ]
     },
     "execution_count": 14,
     "metadata": {},
     "output_type": "execute_result"
    }
   ],
   "source": [
    "# Find a pseudo solution with a built-in function implementing the method of least squares\n",
    "ps = np.linalg.lstsq(A, B, rcond=None)\n",
    "ps"
   ]
  },
  {
   "cell_type": "code",
   "execution_count": 15,
   "metadata": {},
   "outputs": [
    {
     "name": "stdout",
     "output_type": "stream",
     "text": [
      "x, y, z:  [ 1.13919353 -0.90498444 -0.9009803 ]\n",
      "Squared norm of the residuals:  [0.71523211]\n",
      "Rank of matrix A:  3\n",
      "Singular values of matrix A:  [15.2817306   9.59852942  3.65197794]\n"
     ]
    }
   ],
   "source": [
    "print(\"x, y, z: \", ps[0])\n",
    "print(\"Squared norm of the residuals: \", ps[1])\n",
    "print(\"Rank of matrix A: \", ps[2])\n",
    "print(\"Singular values of matrix A: \", ps[3])"
   ]
  },
  {
   "cell_type": "code",
   "execution_count": 16,
   "metadata": {},
   "outputs": [
    {
     "name": "stdout",
     "output_type": "stream",
     "text": [
      "[ 0.23020495  7.03751834 11.83650981  6.78328855 15.21805313]\n",
      "[ 1  7 12  7 15]\n"
     ]
    }
   ],
   "source": [
    "# Verify the pseudo solution\n",
    "print(np.dot(A, ps[0]))\n",
    "print(B)"
   ]
  },
  {
   "cell_type": "code",
   "execution_count": 17,
   "metadata": {},
   "outputs": [],
   "source": [
    "# Define function Q which returns the squared norm of the residuals \n",
    "def Q(x, y, z):\n",
    "    return ((np.linalg.norm(np.dot(A, [x, y, z]) - B)) ** 2)"
   ]
  },
  {
   "cell_type": "code",
   "execution_count": 18,
   "metadata": {},
   "outputs": [
    {
     "name": "stdout",
     "output_type": "stream",
     "text": [
      "0.7152321111819737\n",
      "[0.71523211]\n"
     ]
    }
   ],
   "source": [
    "sq_norm_res = Q(1.13919353, -0.90498444, -0.9009803)\n",
    "\n",
    "print(sq_norm_res)\n",
    "print(ps[1])"
   ]
  },
  {
   "cell_type": "markdown",
   "metadata": {},
   "source": [
    "__Задание 3__  \n",
    "Сколько решений имеет линейная система:\n",
    "$$\\begin{bmatrix}\n",
    "1 & 2 & 3 \\\\ \n",
    "4 & 5 & 6 \\\\\n",
    "7 & 8 & 9 \\\\\n",
    "\\end{bmatrix} \n",
    "\\cdot X = \n",
    "\\begin{bmatrix}\n",
    "12 \\\\\n",
    "2 \\\\\n",
    "1 \\\\\n",
    "\\end{bmatrix}$$    \n",
    "Если ноль – то измените вектор правой части так, чтобы система стала совместной, и решите ее. "
   ]
  },
  {
   "cell_type": "markdown",
   "metadata": {},
   "source": [
    "__Решение__"
   ]
  },
  {
   "cell_type": "code",
   "execution_count": 19,
   "metadata": {},
   "outputs": [
    {
     "data": {
      "text/plain": [
       "0"
      ]
     },
     "execution_count": 19,
     "metadata": {},
     "output_type": "execute_result"
    }
   ],
   "source": [
    "# Find determinant by formula\n",
    "1*5*9 + 7*2*6 + 4*8*3 - 7*5*3 - 1*8*6 - 4*2*9 "
   ]
  },
  {
   "cell_type": "code",
   "execution_count": 20,
   "metadata": {},
   "outputs": [
    {
     "name": "stdout",
     "output_type": "stream",
     "text": [
      "[[ 1  2  3 12]\n",
      " [ 4  5  6  2]\n",
      " [ 7  8  9  1]]\n"
     ]
    },
    {
     "data": {
      "text/plain": [
       "(2, 3)"
      ]
     },
     "execution_count": 20,
     "metadata": {},
     "output_type": "execute_result"
    }
   ],
   "source": [
    "A = np.array([[1, 2, 3], [4, 5, 6], [7, 8, 9]])\n",
    "B = np.array([[12, 2, 1]])\n",
    "C = np.concatenate((A, B.T), axis=1) # augmented matrix\n",
    "\n",
    "print(C)\n",
    "A_rank = np.linalg.matrix_rank(A, 0.0001)\n",
    "C_rank = np.linalg.matrix_rank(C, 0.0001)\n",
    "A_rank, C_rank"
   ]
  },
  {
   "cell_type": "markdown",
   "metadata": {},
   "source": [
    "__Kronecker-Capelli theorem:__  \n",
    "A system of linear equations is compatible if and only if the rank of the coefficient matrix `A` is equal to that of the augmented matrix `C` obtained from `A` by adding the column of free terms `B`."
   ]
  },
  {
   "cell_type": "markdown",
   "metadata": {},
   "source": [
    "The rank of the original matrix `A` is less than the rank of the extended matrix `C`, hence this system does not have any solutions."
   ]
  },
  {
   "cell_type": "code",
   "execution_count": 21,
   "metadata": {},
   "outputs": [
    {
     "name": "stdout",
     "output_type": "stream",
     "text": [
      "[[ 1  2  3 12]\n",
      " [ 4  5  6 15]\n",
      " [ 7  8  9 18]]\n"
     ]
    },
    {
     "data": {
      "text/plain": [
       "(2, 2)"
      ]
     },
     "execution_count": 21,
     "metadata": {},
     "output_type": "execute_result"
    }
   ],
   "source": [
    "# Change the array so that C rank is not greater than A rank - to make the system compatible\n",
    "B = np.array([[12, 15, 18]])\n",
    "\n",
    "C = np.concatenate((A, B.T), axis=1) # augmented matrix\n",
    "print(C)\n",
    "\n",
    "A_rank = np.linalg.matrix_rank(A, 0.0001)\n",
    "C_rank = np.linalg.matrix_rank(C, 0.0001)\n",
    "A_rank, C_rank"
   ]
  },
  {
   "cell_type": "markdown",
   "metadata": {},
   "source": [
    "Now, according to the Kronecker-Capelli theorem, the system should have solutions."
   ]
  },
  {
   "cell_type": "code",
   "execution_count": 22,
   "metadata": {},
   "outputs": [
    {
     "data": {
      "text/plain": [
       "array([-2.4, -4.2,  7.6])"
      ]
     },
     "execution_count": 22,
     "metadata": {},
     "output_type": "execute_result"
    }
   ],
   "source": [
    "B = np.array([12, 15, 18])\n",
    "np.linalg.solve(A, B)"
   ]
  },
  {
   "cell_type": "markdown",
   "metadata": {},
   "source": [
    "__Задание 4__  \n",
    "Вычислите LU-разложение матрицы:\n",
    "$$\\begin{bmatrix}\n",
    "1 & 2 & 3 \\\\ \n",
    "2 & 16 & 21 \\\\\n",
    "4 & 28 & 73 \\\\\n",
    "\\end{bmatrix}$$  \n",
    "После этого придумайте вектор правых частей и решите полученную линейную систему трех уравнений с данной матрицей."
   ]
  },
  {
   "cell_type": "markdown",
   "metadata": {},
   "source": [
    "__Решение__"
   ]
  },
  {
   "cell_type": "markdown",
   "metadata": {},
   "source": [
    "$$P \\cdot A = L \\cdot U$$"
   ]
  },
  {
   "cell_type": "code",
   "execution_count": 23,
   "metadata": {},
   "outputs": [
    {
     "data": {
      "text/plain": [
       "array([[ 1,  2,  3],\n",
       "       [ 2, 16, 21],\n",
       "       [ 4, 28, 73]])"
      ]
     },
     "execution_count": 23,
     "metadata": {},
     "output_type": "execute_result"
    }
   ],
   "source": [
    "A = np.array([[1, 2, 3], [2, 16, 21], [4, 28, 73]])\n",
    "A"
   ]
  },
  {
   "cell_type": "code",
   "execution_count": 24,
   "metadata": {},
   "outputs": [
    {
     "name": "stdout",
     "output_type": "stream",
     "text": [
      "P:\n",
      " [[0. 1. 0.]\n",
      " [0. 0. 1.]\n",
      " [1. 0. 0.]]\n",
      "L:\n",
      " [[ 1.    0.    0.  ]\n",
      " [ 0.25  1.    0.  ]\n",
      " [ 0.5  -0.4   1.  ]]\n",
      "U:\n",
      " [[  4.    28.    73.  ]\n",
      " [  0.    -5.   -15.25]\n",
      " [  0.     0.   -21.6 ]]\n"
     ]
    }
   ],
   "source": [
    "P, L, U = scipy.linalg.lu(A)\n",
    "\n",
    "print(\"P:\\n\", P)\n",
    "print(\"L:\\n\", L)\n",
    "print(\"U:\\n\", U)"
   ]
  },
  {
   "cell_type": "code",
   "execution_count": 25,
   "metadata": {},
   "outputs": [
    {
     "data": {
      "text/plain": [
       "array([10.13888889,  0.34722222, -0.27777778])"
      ]
     },
     "execution_count": 25,
     "metadata": {},
     "output_type": "execute_result"
    }
   ],
   "source": [
    "# Okay, let it be this array...\n",
    "B = np.array([10, 20, 30])\n",
    "\n",
    "np.linalg.solve(A, B)"
   ]
  },
  {
   "cell_type": "markdown",
   "metadata": {},
   "source": [
    "__Задание 5__  \n",
    "Найдите нормальное псевдорешение недоопределенной системы:  \n",
    "$x + 2y – z = 1$  \n",
    "$8x – 5y + 2z = 12$  \n",
    "Для этого определите функцию `Q(x,y,z)`, равную норме решения, и найдите ее минимум. "
   ]
  },
  {
   "cell_type": "markdown",
   "metadata": {},
   "source": [
    "__Решение__"
   ]
  },
  {
   "cell_type": "markdown",
   "metadata": {},
   "source": [
    "$$A \\cdot X = B \\\\\n",
    "|X| = min$$"
   ]
  },
  {
   "cell_type": "code",
   "execution_count": 26,
   "metadata": {},
   "outputs": [
    {
     "name": "stdout",
     "output_type": "stream",
     "text": [
      "Matrix A:\n",
      " [[ 1  2 -1]\n",
      " [ 8 -5  2]]\n",
      "Vector B:\n",
      " [ 1 12]\n"
     ]
    }
   ],
   "source": [
    "# Under-determined system of linear equations in matrix form\n",
    "\n",
    "a00, a01, a02 = 1, 2, -1\n",
    "a10, a11, a12 = 8, -5, 2\n",
    "b0, b1 = 1, 12\n",
    "\n",
    "A = np.array([[a00, a01, a02], [a10, a11, a12]])\n",
    "B = np.array([b0, b1])\n",
    "\n",
    "print(\"Matrix A:\\n\", A)\n",
    "print(\"Vector B:\\n\", B)"
   ]
  },
  {
   "cell_type": "code",
   "execution_count": 27,
   "metadata": {},
   "outputs": [],
   "source": [
    "# Define function Q which returns the sum of the squares \n",
    "def Q(x, y, z):\n",
    "    return (x**2 + y**2 + z**2)"
   ]
  },
  {
   "cell_type": "code",
   "execution_count": 28,
   "metadata": {},
   "outputs": [
    {
     "data": {
      "text/plain": [
       "(array([ 1.38191882, -0.18081181,  0.0202952 ]),\n",
       " array([], dtype=float64),\n",
       " 2,\n",
       " array([9.65316119, 2.41173777]))"
      ]
     },
     "execution_count": 28,
     "metadata": {},
     "output_type": "execute_result"
    }
   ],
   "source": [
    "# Find a normal pseudo solution with a built-in function implementing the method of least squares\n",
    "nps = np.linalg.lstsq(A, B, rcond=None)\n",
    "nps"
   ]
  },
  {
   "cell_type": "code",
   "execution_count": 29,
   "metadata": {},
   "outputs": [
    {
     "data": {
      "text/plain": [
       "1.942804430848709"
      ]
     },
     "execution_count": 29,
     "metadata": {},
     "output_type": "execute_result"
    }
   ],
   "source": [
    "Q(1.38191882, -0.18081181, 0.0202952)"
   ]
  },
  {
   "cell_type": "markdown",
   "metadata": {},
   "source": [
    "__Задание 6__  \n",
    "Найдите одно из псевдорешений вырожденной системы:\n",
    "$$\\begin{bmatrix}\n",
    "1 & 2 & 3 \\\\ \n",
    "4 & 5 & 6 \\\\\n",
    "7 & 8 & 9 \\\\\n",
    "\\end{bmatrix} \n",
    "\\cdot X = \n",
    "\\begin{bmatrix}\n",
    "2 \\\\\n",
    "5 \\\\\n",
    "11 \\\\\n",
    "\\end{bmatrix}$$  \n",
    "Попробуйте также отыскать и нормальное псевдорешение."
   ]
  },
  {
   "cell_type": "markdown",
   "metadata": {},
   "source": [
    "__Решение__"
   ]
  },
  {
   "cell_type": "markdown",
   "metadata": {},
   "source": [
    "A _singular matrix_ (a.k.a. _degenerate matrix_), is a square matrix whose determinate is zero.\n",
    "\n",
    "For under-determined and degenerate matrices:\n",
    "$$R = \n",
    "\\begin{pmatrix}\n",
    "R_1 & R_2 \\\\ \n",
    "0 & 0 \\\\\n",
    "\\end{pmatrix}$$"
   ]
  },
  {
   "cell_type": "markdown",
   "metadata": {},
   "source": [
    "$$X = \n",
    "\\begin{pmatrix}\n",
    "X_1 \\\\ \n",
    "X_2 \\\\\n",
    "\\end{pmatrix}$$"
   ]
  },
  {
   "cell_type": "markdown",
   "metadata": {},
   "source": [
    "$$R_1 \\cdot X_1 = Q^T \\cdot B - R_2 \\cdot X_2$$"
   ]
  },
  {
   "cell_type": "code",
   "execution_count": 30,
   "metadata": {},
   "outputs": [],
   "source": [
    "A = np.array([[1, 2, 3], [4, 5, 6], [7, 8, 9]])\n",
    "B = np.array([2, 5, 11])"
   ]
  },
  {
   "cell_type": "code",
   "execution_count": 31,
   "metadata": {},
   "outputs": [
    {
     "data": {
      "text/plain": [
       "-9.51619735392994e-16"
      ]
     },
     "execution_count": 31,
     "metadata": {},
     "output_type": "execute_result"
    }
   ],
   "source": [
    "np.linalg.det(A)"
   ]
  },
  {
   "cell_type": "markdown",
   "metadata": {},
   "source": [
    "Matrix `A` is a singular matrix. "
   ]
  },
  {
   "cell_type": "code",
   "execution_count": 32,
   "metadata": {},
   "outputs": [
    {
     "name": "stdout",
     "output_type": "stream",
     "text": [
      "A:\n",
      " [[1 2 3]\n",
      " [4 5 6]\n",
      " [7 8 9]]\n",
      "Q:\n",
      " [[-0.12309149  0.90453403  0.40824829]\n",
      " [-0.49236596  0.30151134 -0.81649658]\n",
      " [-0.86164044 -0.30151134  0.40824829]]\n",
      "R:\n",
      " [[-8.12403840e+00 -9.60113630e+00 -1.10782342e+01]\n",
      " [ 0.00000000e+00  9.04534034e-01  1.80906807e+00]\n",
      " [ 0.00000000e+00  0.00000000e+00 -1.11164740e-15]]\n"
     ]
    }
   ],
   "source": [
    "# Get matrices Q and R with a built-in function implementing QR decomposition (a.k.a. QR factorization or QU factorization)\n",
    "Q, R = np.linalg.qr(A)\n",
    "\n",
    "print(\"A:\\n\", A)\n",
    "print(\"Q:\\n\", Q)\n",
    "print(\"R:\\n\", R)"
   ]
  },
  {
   "cell_type": "code",
   "execution_count": 33,
   "metadata": {},
   "outputs": [
    {
     "name": "stdout",
     "output_type": "stream",
     "text": [
      "[[1. 2. 3.]\n",
      " [4. 5. 6.]\n",
      " [7. 8. 9.]]\n",
      "[[ 1.00000000e+00 -5.26517217e-16 -2.55176183e-16]\n",
      " [-5.26517217e-16  1.00000000e+00  3.37757775e-16]\n",
      " [-2.55176183e-16  3.37757775e-16  1.00000000e+00]]\n"
     ]
    }
   ],
   "source": [
    "# Verify that QR decomposition was performed correctly\n",
    "\n",
    "print(np.dot(Q, R)) # should be original matrix A\n",
    "print(np.dot(np.transpose(Q), Q)) # should be E"
   ]
  },
  {
   "cell_type": "code",
   "execution_count": 34,
   "metadata": {},
   "outputs": [
    {
     "data": {
      "text/plain": [
       "array([[-8.1240384 , -9.6011363 ],\n",
       "       [ 0.        ,  0.90453403]])"
      ]
     },
     "execution_count": 34,
     "metadata": {},
     "output_type": "execute_result"
    }
   ],
   "source": [
    "R1 = R[:2, :2]\n",
    "R1"
   ]
  },
  {
   "cell_type": "code",
   "execution_count": 35,
   "metadata": {},
   "outputs": [
    {
     "data": {
      "text/plain": [
       "array([-1.21860576e+01,  8.54871729e-15])"
      ]
     },
     "execution_count": 35,
     "metadata": {},
     "output_type": "execute_result"
    }
   ],
   "source": [
    "B1 = np.dot(np.transpose(Q), B)[:2]\n",
    "B1"
   ]
  },
  {
   "cell_type": "code",
   "execution_count": 36,
   "metadata": {},
   "outputs": [
    {
     "data": {
      "text/plain": [
       "array([1.50000000e+00, 9.45096256e-15])"
      ]
     },
     "execution_count": 36,
     "metadata": {},
     "output_type": "execute_result"
    }
   ],
   "source": [
    "X1 = np.linalg.solve(R1, B1)\n",
    "X1"
   ]
  },
  {
   "cell_type": "code",
   "execution_count": 37,
   "metadata": {},
   "outputs": [
    {
     "name": "stdout",
     "output_type": "stream",
     "text": [
      "[1.50000000e+00 9.45096256e-15 0.00000000e+00]\n"
     ]
    },
    {
     "data": {
      "text/plain": [
       "1.4999999999999893"
      ]
     },
     "execution_count": 37,
     "metadata": {},
     "output_type": "execute_result"
    }
   ],
   "source": [
    "X = np.append(X1, 0)\n",
    "print(X)\n",
    "\n",
    "# Find one of the pseudo-solutions\n",
    "np.linalg.norm(X)"
   ]
  }
 ],
 "metadata": {
  "kernelspec": {
   "display_name": "Python 3",
   "language": "python",
   "name": "python3"
  },
  "language_info": {
   "codemirror_mode": {
    "name": "ipython",
    "version": 3
   },
   "file_extension": ".py",
   "mimetype": "text/x-python",
   "name": "python",
   "nbconvert_exporter": "python",
   "pygments_lexer": "ipython3",
   "version": "3.7.3"
  }
 },
 "nbformat": 4,
 "nbformat_minor": 2
}
